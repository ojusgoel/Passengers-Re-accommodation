{
  "nbformat": 4,
  "nbformat_minor": 0,
  "metadata": {
    "colab": {
      "provenance": []
    },
    "kernelspec": {
      "name": "python3",
      "display_name": "Python 3"
    },
    "language_info": {
      "name": "python"
    }
  },
  "cells": [
    {
      "cell_type": "code",
      "execution_count": 44,
      "metadata": {
        "id": "XbL5Oi-YFmj2"
      },
      "outputs": [],
      "source": [
        "import pandas as pd\n",
        "import numpy as np"
      ]
    },
    {
      "cell_type": "code",
      "source": [
        "flight_details= pd.read_csv(\"/PNRB-ZZ-20231208_062017.csv\")\n",
        "passenger= pd.read_csv(\"/PNRP-ZZ-20231208_111136.csv\")\n",
        "schedule=pd.read_csv(\"/SCH-ZZ-20231208_035117.csv\")\n",
        "# flight_details"
      ],
      "metadata": {
        "id": "38wrWqtQF6Ob"
      },
      "execution_count": 45,
      "outputs": []
    },
    {
      "cell_type": "code",
      "source": [
        "#input\n",
        "\n",
        "specific_schedule_id= \"SCH-ZZ-9117133\"\n",
        "specific_date=\"20240403\""
      ],
      "metadata": {
        "id": "rEVg6NPGGkc7"
      },
      "execution_count": 46,
      "outputs": []
    },
    {
      "cell_type": "code",
      "source": [
        "# segment score and pax score input\n",
        "\n",
        "external_multiplier_seg = 100\n",
        "external_multiplier_pax = 50"
      ],
      "metadata": {
        "id": "sB5m_QacHZ1G"
      },
      "execution_count": 47,
      "outputs": []
    },
    {
      "cell_type": "code",
      "source": [
        "#ssr cost input and loyalty cost\n",
        "\n",
        "tags_cost ={'INFT' : 200, 'WCHR' : 200, 'WCHS' : 200, 'WCHC' : 200, 'LANG' : 200, 'CHLD' : 200, 'MAAS' : 200, 'UNMR' : 200, 'BLND' : 200, 'DEAF' : 200, 'EXST' : 200, 'MEAL' : 200, 'NSST' : 200, 'NRPS' : 200,  }\n",
        "loyalty_cost = {'Platinum' : 2000, 'Gold' : 2000, 'Silver' : 2000, 'none':0 }"
      ],
      "metadata": {
        "id": "zPSDdGyYHwm_"
      },
      "execution_count": 48,
      "outputs": []
    },
    {
      "cell_type": "code",
      "source": [
        "tag_columns = ['SPECIAL_NAME_CD2', 'SSR_CODE_CD1']"
      ],
      "metadata": {
        "id": "EmpoN1clH2af"
      },
      "execution_count": 49,
      "outputs": []
    },
    {
      "cell_type": "code",
      "source": [
        "#generating departure key from input\n",
        "\n",
        "schedule['FlightNumber']=schedule['FlightNumber'].astype(int)\n",
        "selected_rows = schedule[schedule['ScheduleID'] == specific_schedule_id][['ScheduleID', 'CarrierCode', 'ArrivalAirport', 'DepartureAirport', 'FlightNumber']]\n",
        "selected_rows['FlightNumber'] = selected_rows['FlightNumber'].astype(str)\n",
        "selected_rows['Concatenated'] = selected_rows[['DepartureAirport', 'ArrivalAirport', 'FlightNumber']].astype(str).apply(lambda x: ''.join(x), axis=1)\n",
        "selected_rows['Concatenated'] = specific_date+selected_rows['Concatenated'].replace(' ', '', regex=True)\n",
        "selected_rows['Concatenated'] = selected_rows[['CarrierCode','Concatenated']].astype(str).apply(lambda x: ''.join(x), axis=1)\n",
        "\n",
        "#specific departure key is generated and stored in variable specific_dep_key\n",
        "specific_dep_key= selected_rows.at[selected_rows.index[0], \"Concatenated\"]\n",
        "flight_details[\"DEP_KEY\"]=flight_details[\"DEP_KEY\"].astype(str)\n",
        "# specific_dep_key"
      ],
      "metadata": {
        "id": "4cchwPYYGu5C"
      },
      "execution_count": 50,
      "outputs": []
    },
    {
      "cell_type": "code",
      "source": [
        "# filtering the flights based on departure key generated\n",
        "\n",
        "filtered_f= flight_details[flight_details[\"DEP_KEY\"]== specific_dep_key]\n",
        "filtered_f_copy= filtered_f\n",
        "\n",
        "# filtered_f_copy"
      ],
      "metadata": {
        "id": "rWuZPL7_HHyU"
      },
      "execution_count": 51,
      "outputs": []
    },
    {
      "cell_type": "code",
      "source": [
        "# calcultating the segment scores and pax_cnt scores for reclocs (grouped passengers)\n",
        "\n",
        "filtered_f_copy['SEG_TOTAL_MULTIPLIED'] = filtered_f_copy['SEG_TOTAL'] * external_multiplier_seg\n",
        "filtered_f_copy['PAX_CNT_MULTIPLIED'] = filtered_f_copy['PAX_CNT'] * external_multiplier_pax\n",
        "\n",
        "# Create a new column with the sum of SEG_SEQ_MULTIPLIED and PAX_CNT_MULTIPLIED\n",
        "filtered_f_copy['SUM_SEG_PAX'] = filtered_f_copy['SEG_TOTAL_MULTIPLIED'] + filtered_f_copy['PAX_CNT_MULTIPLIED']"
      ],
      "metadata": {
        "id": "akuF0dHgHkJG"
      },
      "execution_count": null,
      "outputs": []
    },
    {
      "cell_type": "code",
      "source": [
        "# calculating ssr score and loyalty score for each passenger\n",
        "\n",
        "reclocs_list = filtered_f[\"RECLOC\"].tolist()\n",
        "filtered_passengers_list = passenger[passenger[\"RECLOC\"].isin(reclocs_list)]\n",
        "filtered_passengers_list['ssr_score'] = filtered_passengers_list[tag_columns].applymap(tags_cost.get).sum(axis=1)\n",
        "filtered_passengers_list['Loyalty_score'] = filtered_passengers_list['TierLevel'].map(loyalty_cost).fillna(loyalty_cost['none'])\n",
        "\n",
        "filtered_passengers_list['Total_score'] = filtered_passengers_list['Loyalty_score'] + filtered_passengers_list['ssr_score']\n",
        "sorted_passengers=filtered_passengers_list.sort_values(by=\"Total_score\", ascending=False)\n",
        "\n",
        "# filtered_passengers_list\n",
        "# sorted_passengers"
      ],
      "metadata": {
        "id": "avDJn5-pHoDf"
      },
      "execution_count": null,
      "outputs": []
    },
    {
      "cell_type": "code",
      "source": [
        "# merging the ssr score and loyalty score generated individually for passenger into the recloc table (grouped passengers)\n",
        "\n",
        "merged_sorted_passengers = sorted_passengers.groupby('RECLOC')['Total_score'].sum().reset_index()\n",
        "# merged_sorted_passengers\n",
        "merged_table = pd.merge(merged_sorted_passengers, filtered_f_copy, on='RECLOC', how='outer')\n",
        "merged_table['final_score'] = merged_table['Total_score'] + merged_table['SUM_SEG_PAX']\n",
        "merged_table=merged_table.drop(['Total_score', 'SEG_TOTAL_MULTIPLIED', 'PAX_CNT_MULTIPLIED' ,'SUM_SEG_PAX'], axis=1)\n",
        "merge_sorted_table = merged_table.sort_values('final_score', ascending=False)\n",
        "\n",
        "# merge_sorted_table"
      ],
      "metadata": {
        "id": "1nVVP2FtMxbo"
      },
      "execution_count": 54,
      "outputs": []
    },
    {
      "cell_type": "code",
      "source": [
        "# generating required lists\n",
        "\n",
        "final_recloc_list = merge_sorted_table['RECLOC'].tolist()\n",
        "final_pax_cnt=merge_sorted_table['PAX_CNT'].tolist()\n",
        "final_seg_seq_cnt=merge_sorted_table['SEG_SEQ'].tolist()\n",
        "final_score=merge_sorted_table['final_score'].tolist()\n",
        "\n",
        "\n",
        "# final_score\n"
      ],
      "metadata": {
        "id": "KeLGvdgELeMJ"
      },
      "execution_count": 58,
      "outputs": []
    }
  ]
}